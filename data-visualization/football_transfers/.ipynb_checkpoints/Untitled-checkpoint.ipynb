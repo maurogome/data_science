{
 "cells": [
  {
   "cell_type": "code",
   "execution_count": 13,
   "id": "institutional-mixer",
   "metadata": {},
   "outputs": [],
   "source": [
    "import pandas as pd\n",
    "import matplotlib.pyplot as plt\n",
    "import seaborn as sns\n",
    "import pywaffle\n",
    "import squarify"
   ]
  },
  {
   "cell_type": "code",
   "execution_count": 3,
   "id": "smart-mistake",
   "metadata": {},
   "outputs": [],
   "source": [
    "df = pd.read_csv(\"top250-00-19.csv\")"
   ]
  },
  {
   "cell_type": "code",
   "execution_count": 4,
   "id": "polyphonic-radar",
   "metadata": {},
   "outputs": [
    {
     "data": {
      "text/html": [
       "<div>\n",
       "<style scoped>\n",
       "    .dataframe tbody tr th:only-of-type {\n",
       "        vertical-align: middle;\n",
       "    }\n",
       "\n",
       "    .dataframe tbody tr th {\n",
       "        vertical-align: top;\n",
       "    }\n",
       "\n",
       "    .dataframe thead th {\n",
       "        text-align: right;\n",
       "    }\n",
       "</style>\n",
       "<table border=\"1\" class=\"dataframe\">\n",
       "  <thead>\n",
       "    <tr style=\"text-align: right;\">\n",
       "      <th></th>\n",
       "      <th>Name</th>\n",
       "      <th>Position</th>\n",
       "      <th>Age</th>\n",
       "      <th>Team_from</th>\n",
       "      <th>League_from</th>\n",
       "      <th>Team_to</th>\n",
       "      <th>League_to</th>\n",
       "      <th>Season</th>\n",
       "      <th>Market_value</th>\n",
       "      <th>Transfer_fee</th>\n",
       "    </tr>\n",
       "  </thead>\n",
       "  <tbody>\n",
       "    <tr>\n",
       "      <th>0</th>\n",
       "      <td>Luís Figo</td>\n",
       "      <td>Right Winger</td>\n",
       "      <td>27</td>\n",
       "      <td>FC Barcelona</td>\n",
       "      <td>LaLiga</td>\n",
       "      <td>Real Madrid</td>\n",
       "      <td>LaLiga</td>\n",
       "      <td>2000-2001</td>\n",
       "      <td>NaN</td>\n",
       "      <td>60000000</td>\n",
       "    </tr>\n",
       "    <tr>\n",
       "      <th>1</th>\n",
       "      <td>Hernán Crespo</td>\n",
       "      <td>Centre-Forward</td>\n",
       "      <td>25</td>\n",
       "      <td>Parma</td>\n",
       "      <td>Serie A</td>\n",
       "      <td>Lazio</td>\n",
       "      <td>Serie A</td>\n",
       "      <td>2000-2001</td>\n",
       "      <td>NaN</td>\n",
       "      <td>56810000</td>\n",
       "    </tr>\n",
       "    <tr>\n",
       "      <th>2</th>\n",
       "      <td>Marc Overmars</td>\n",
       "      <td>Left Winger</td>\n",
       "      <td>27</td>\n",
       "      <td>Arsenal</td>\n",
       "      <td>Premier League</td>\n",
       "      <td>FC Barcelona</td>\n",
       "      <td>LaLiga</td>\n",
       "      <td>2000-2001</td>\n",
       "      <td>NaN</td>\n",
       "      <td>40000000</td>\n",
       "    </tr>\n",
       "    <tr>\n",
       "      <th>3</th>\n",
       "      <td>Gabriel Batistuta</td>\n",
       "      <td>Centre-Forward</td>\n",
       "      <td>31</td>\n",
       "      <td>Fiorentina</td>\n",
       "      <td>Serie A</td>\n",
       "      <td>AS Roma</td>\n",
       "      <td>Serie A</td>\n",
       "      <td>2000-2001</td>\n",
       "      <td>NaN</td>\n",
       "      <td>36150000</td>\n",
       "    </tr>\n",
       "    <tr>\n",
       "      <th>4</th>\n",
       "      <td>Nicolas Anelka</td>\n",
       "      <td>Centre-Forward</td>\n",
       "      <td>21</td>\n",
       "      <td>Real Madrid</td>\n",
       "      <td>LaLiga</td>\n",
       "      <td>Paris SG</td>\n",
       "      <td>Ligue 1</td>\n",
       "      <td>2000-2001</td>\n",
       "      <td>NaN</td>\n",
       "      <td>34500000</td>\n",
       "    </tr>\n",
       "  </tbody>\n",
       "</table>\n",
       "</div>"
      ],
      "text/plain": [
       "                Name        Position  Age     Team_from     League_from  \\\n",
       "0          Luís Figo    Right Winger   27  FC Barcelona          LaLiga   \n",
       "1      Hernán Crespo  Centre-Forward   25         Parma         Serie A   \n",
       "2      Marc Overmars     Left Winger   27       Arsenal  Premier League   \n",
       "3  Gabriel Batistuta  Centre-Forward   31    Fiorentina         Serie A   \n",
       "4     Nicolas Anelka  Centre-Forward   21   Real Madrid          LaLiga   \n",
       "\n",
       "        Team_to League_to     Season  Market_value  Transfer_fee  \n",
       "0   Real Madrid    LaLiga  2000-2001           NaN      60000000  \n",
       "1         Lazio   Serie A  2000-2001           NaN      56810000  \n",
       "2  FC Barcelona    LaLiga  2000-2001           NaN      40000000  \n",
       "3       AS Roma   Serie A  2000-2001           NaN      36150000  \n",
       "4      Paris SG   Ligue 1  2000-2001           NaN      34500000  "
      ]
     },
     "execution_count": 4,
     "metadata": {},
     "output_type": "execute_result"
    }
   ],
   "source": [
    "df.head()"
   ]
  },
  {
   "cell_type": "code",
   "execution_count": 5,
   "id": "chief-charger",
   "metadata": {},
   "outputs": [
    {
     "name": "stdout",
     "output_type": "stream",
     "text": [
      "<class 'pandas.core.frame.DataFrame'>\n",
      "RangeIndex: 4700 entries, 0 to 4699\n",
      "Data columns (total 10 columns):\n",
      " #   Column        Non-Null Count  Dtype  \n",
      "---  ------        --------------  -----  \n",
      " 0   Name          4700 non-null   object \n",
      " 1   Position      4700 non-null   object \n",
      " 2   Age           4700 non-null   int64  \n",
      " 3   Team_from     4700 non-null   object \n",
      " 4   League_from   4700 non-null   object \n",
      " 5   Team_to       4700 non-null   object \n",
      " 6   League_to     4700 non-null   object \n",
      " 7   Season        4700 non-null   object \n",
      " 8   Market_value  3440 non-null   float64\n",
      " 9   Transfer_fee  4700 non-null   int64  \n",
      "dtypes: float64(1), int64(2), object(7)\n",
      "memory usage: 367.3+ KB\n"
     ]
    }
   ],
   "source": [
    "df.info()"
   ]
  },
  {
   "cell_type": "code",
   "execution_count": 6,
   "id": "exciting-sheffield",
   "metadata": {},
   "outputs": [],
   "source": [
    "df.drop('Market_value', axis=1, inplace=True)"
   ]
  },
  {
   "cell_type": "code",
   "execution_count": 25,
   "id": "announced-postage",
   "metadata": {},
   "outputs": [
    {
     "data": {
      "text/plain": [
       "array(['Right Winger', 'Centre-Forward', 'Left Winger', 'Centre-Back',\n",
       "       'Central Midfield', 'Attacking Midfield', 'Defensive Midfield',\n",
       "       'Second Striker', 'Goalkeeper', 'Right-Back', 'Left Midfield',\n",
       "       'Left-Back', 'Right Midfield', 'Forward', 'Sweeper', 'Defender',\n",
       "       'Midfielder'], dtype=object)"
      ]
     },
     "execution_count": 25,
     "metadata": {},
     "output_type": "execute_result"
    }
   ],
   "source": [
    "df\n",
    "df['Position'].unique()\n"
   ]
  },
  {
   "cell_type": "code",
   "execution_count": 27,
   "id": "eight-burst",
   "metadata": {
    "scrolled": false
   },
   "outputs": [
    {
     "data": {
      "image/png": "[encoded data removed]",
      "text/plain": [
       "<Figure size 960x640 with 1 Axes>"
      ]
     },
     "metadata": {
      "needs_background": "light"
     },
     "output_type": "display_data"
    }
   ],
   "source": [
    "position = df['Position'].value_counts().rename_axis('Position').reset_index(name='counts')\n",
    "\n",
    "sizes = position['counts']\n",
    "names = position['Position']\n",
    "plt.figure(figsize = (12,8), dpi=80)\n",
    "color = ['b','m','g','y','c','r','w']\n",
    "\n",
    "squarify.plot(sizes = sizes, label = names, alpha = 0.5, color = color)\n",
    "plt.axis('off')\n",
    "plt.title('Treemap of Positions', fontsize = 26)\n",
    "plt.show()"
   ]
  }
 ],
 "metadata": {
  "kernelspec": {
   "display_name": "Python 3",
   "language": "python",
   "name": "python3"
  },
  "language_info": {
   "codemirror_mode": {
    "name": "ipython",
    "version": 3
   },
   "file_extension": ".py",
   "mimetype": "text/x-python",
   "name": "python",
   "nbconvert_exporter": "python",
   "pygments_lexer": "ipython3",
   "version": "3.8.5"
  }
 },
 "nbformat": 4,
 "nbformat_minor": 5
}
