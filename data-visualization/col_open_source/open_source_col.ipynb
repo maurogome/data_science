{
 "cells": [
  {
   "cell_type": "code",
   "execution_count": 16,
   "id": "specified-translation",
   "metadata": {},
   "outputs": [],
   "source": [
    "import pandas as pd\n",
    "import matplotlib.pyplot as plt\n",
    "import seaborn as sns"
   ]
  },
  {
   "cell_type": "code",
   "execution_count": 2,
   "id": "drawn-brunei",
   "metadata": {},
   "outputs": [],
   "source": [
    "df = pd.read_csv(\"data/software_publico.csv\")"
   ]
  },
  {
   "cell_type": "code",
   "execution_count": 5,
   "id": "capable-brain",
   "metadata": {},
   "outputs": [
    {
     "data": {
      "text/html": [
       "<div>\n",
       "<style scoped>\n",
       "    .dataframe tbody tr th:only-of-type {\n",
       "        vertical-align: middle;\n",
       "    }\n",
       "\n",
       "    .dataframe tbody tr th {\n",
       "        vertical-align: top;\n",
       "    }\n",
       "\n",
       "    .dataframe thead th {\n",
       "        text-align: right;\n",
       "    }\n",
       "</style>\n",
       "<table border=\"1\" class=\"dataframe\">\n",
       "  <thead>\n",
       "    <tr style=\"text-align: right;\">\n",
       "      <th></th>\n",
       "      <th>Nombre del proyecto</th>\n",
       "      <th>Tipo de aplicación</th>\n",
       "      <th>Descripción</th>\n",
       "      <th>Categoría</th>\n",
       "      <th>Año del proyecto</th>\n",
       "      <th>Licencia</th>\n",
       "      <th>URL</th>\n",
       "      <th>URL Código</th>\n",
       "      <th>Organización</th>\n",
       "      <th>E-mail de contacto</th>\n",
       "      <th>Características</th>\n",
       "      <th>Versión</th>\n",
       "      <th>Fecha</th>\n",
       "      <th>URL Video</th>\n",
       "      <th>URL Documentación</th>\n",
       "    </tr>\n",
       "  </thead>\n",
       "  <tbody>\n",
       "    <tr>\n",
       "      <th>0</th>\n",
       "      <td>YO CUIDO  LO PÚBLICO</td>\n",
       "      <td>Software Público</td>\n",
       "      <td>“Yo Cuido lo Público”, como una herramienta de...</td>\n",
       "      <td>Organismos de Control</td>\n",
       "      <td>2017</td>\n",
       "      <td>GNU Lesser General Public License (LGPL) 3.0</td>\n",
       "      <td>http://www.softwarepublicocolombia.gov.co</td>\n",
       "      <td>http://gitlab.geovisor.com.co/groups/yocuidolo...</td>\n",
       "      <td>Ministerio de Tecnologías de la Información y ...</td>\n",
       "      <td>lmedina@mintic.gov.co</td>\n",
       "      <td>Prevalece la información de los entes de contr...</td>\n",
       "      <td>1.0</td>\n",
       "      <td>10/20/2017 12:00:00 AM</td>\n",
       "      <td>NaN</td>\n",
       "      <td>NaN</td>\n",
       "    </tr>\n",
       "    <tr>\n",
       "      <th>1</th>\n",
       "      <td>Portal de Software Público Colombia</td>\n",
       "      <td>Software Público</td>\n",
       "      <td>Publica, comparte, mejora y reutiliza software...</td>\n",
       "      <td>Ciencia, Tecnología e Innovación</td>\n",
       "      <td>2017</td>\n",
       "      <td>GNU Lesser General Public License (LGPL) 3.0</td>\n",
       "      <td>http://www.softwarepublicocolombia.gov.co</td>\n",
       "      <td>https://github.com/softwarepublicomintic/Softw...</td>\n",
       "      <td>Ministerio De Tecnologías de la Información y ...</td>\n",
       "      <td>softwarepublicocolombia@mintic.gov.co</td>\n",
       "      <td>http://www.softwarepublicocolombia.gov.co/es/t...</td>\n",
       "      <td>V.1</td>\n",
       "      <td>10/25/2017 12:00:00 AM</td>\n",
       "      <td>https://youtu.be/IiKYmovnwCU</td>\n",
       "      <td>http://www.softwarepublicocolombia.gov.co/es/c...</td>\n",
       "    </tr>\n",
       "    <tr>\n",
       "      <th>2</th>\n",
       "      <td>Indice de Progreso Social TEST</td>\n",
       "      <td>Software Público</td>\n",
       "      <td>pruebas pruebas repruebas</td>\n",
       "      <td>Ambiente y Desarrollo Sostenible</td>\n",
       "      <td>2018</td>\n",
       "      <td>Apache License 2.0</td>\n",
       "      <td>http://www.123.com</td>\n",
       "      <td>http://www.git123.com</td>\n",
       "      <td>NaN</td>\n",
       "      <td>NaN</td>\n",
       "      <td>pruebas pruenas rpprrprp</td>\n",
       "      <td>NaN</td>\n",
       "      <td>12/26/2017 12:00:00 AM</td>\n",
       "      <td>NaN</td>\n",
       "      <td>NaN</td>\n",
       "    </tr>\n",
       "    <tr>\n",
       "      <th>3</th>\n",
       "      <td>tester</td>\n",
       "      <td>Civic Software</td>\n",
       "      <td>Esta herramienta ayuda a determinar cuándo se ...</td>\n",
       "      <td>Culture</td>\n",
       "      <td>2012</td>\n",
       "      <td>GNU General Public License (GPL) 3.0</td>\n",
       "      <td>http://a.nomono.co/dominiopublico</td>\n",
       "      <td>NaN</td>\n",
       "      <td>Fundación Conector</td>\n",
       "      <td>david@conector.co</td>\n",
       "      <td>¿Quiere saber cuándo una obra colombiana entra...</td>\n",
       "      <td>1.0</td>\n",
       "      <td>2017-03-06T00:00:00.000</td>\n",
       "      <td>NaN</td>\n",
       "      <td>NaN</td>\n",
       "    </tr>\n",
       "    <tr>\n",
       "      <th>4</th>\n",
       "      <td>Municipios Visibles</td>\n",
       "      <td>Software Público</td>\n",
       "      <td>Herramienta tecnologica 100% Web que permite a...</td>\n",
       "      <td>Ciencia, Tecnología e Innovación</td>\n",
       "      <td>2017</td>\n",
       "      <td>NaN</td>\n",
       "      <td>http://www.municipiosvisibles.com</td>\n",
       "      <td>https://goo.gl/gQ2rpN</td>\n",
       "      <td>INTERKONT</td>\n",
       "      <td>alejandro.gutierrez@interkont.co</td>\n",
       "      <td>* Creacion facil de proyectos\\r\\n* Monitoreo d...</td>\n",
       "      <td>3.0</td>\n",
       "      <td>08/20/2017 12:00:00 AM</td>\n",
       "      <td>https://www.youtube.com/watch?v=MHhahywWlzM</td>\n",
       "      <td>https://goo.gl/DCpTcM</td>\n",
       "    </tr>\n",
       "  </tbody>\n",
       "</table>\n",
       "</div>"
      ],
      "text/plain": [
       "                   Nombre del proyecto Tipo de aplicación  \\\n",
       "0                 YO CUIDO  LO PÚBLICO   Software Público   \n",
       "1  Portal de Software Público Colombia   Software Público   \n",
       "2       Indice de Progreso Social TEST   Software Público   \n",
       "3                               tester     Civic Software   \n",
       "4                  Municipios Visibles   Software Público   \n",
       "\n",
       "                                         Descripción  \\\n",
       "0  “Yo Cuido lo Público”, como una herramienta de...   \n",
       "1  Publica, comparte, mejora y reutiliza software...   \n",
       "2                          pruebas pruebas repruebas   \n",
       "3  Esta herramienta ayuda a determinar cuándo se ...   \n",
       "4  Herramienta tecnologica 100% Web que permite a...   \n",
       "\n",
       "                          Categoría  Año del proyecto  \\\n",
       "0             Organismos de Control              2017   \n",
       "1  Ciencia, Tecnología e Innovación              2017   \n",
       "2  Ambiente y Desarrollo Sostenible              2018   \n",
       "3                           Culture              2012   \n",
       "4  Ciencia, Tecnología e Innovación              2017   \n",
       "\n",
       "                                       Licencia  \\\n",
       "0  GNU Lesser General Public License (LGPL) 3.0   \n",
       "1  GNU Lesser General Public License (LGPL) 3.0   \n",
       "2                            Apache License 2.0   \n",
       "3          GNU General Public License (GPL) 3.0   \n",
       "4                                           NaN   \n",
       "\n",
       "                                         URL  \\\n",
       "0  http://www.softwarepublicocolombia.gov.co   \n",
       "1  http://www.softwarepublicocolombia.gov.co   \n",
       "2                         http://www.123.com   \n",
       "3          http://a.nomono.co/dominiopublico   \n",
       "4          http://www.municipiosvisibles.com   \n",
       "\n",
       "                                          URL Código  \\\n",
       "0  http://gitlab.geovisor.com.co/groups/yocuidolo...   \n",
       "1  https://github.com/softwarepublicomintic/Softw...   \n",
       "2                              http://www.git123.com   \n",
       "3                                                NaN   \n",
       "4                              https://goo.gl/gQ2rpN   \n",
       "\n",
       "                                        Organización  \\\n",
       "0  Ministerio de Tecnologías de la Información y ...   \n",
       "1  Ministerio De Tecnologías de la Información y ...   \n",
       "2                                                NaN   \n",
       "3                                 Fundación Conector   \n",
       "4                                          INTERKONT   \n",
       "\n",
       "                      E-mail de contacto  \\\n",
       "0                  lmedina@mintic.gov.co   \n",
       "1  softwarepublicocolombia@mintic.gov.co   \n",
       "2                                    NaN   \n",
       "3                      david@conector.co   \n",
       "4       alejandro.gutierrez@interkont.co   \n",
       "\n",
       "                                     Características Versión  \\\n",
       "0  Prevalece la información de los entes de contr...     1.0   \n",
       "1  http://www.softwarepublicocolombia.gov.co/es/t...     V.1   \n",
       "2                           pruebas pruenas rpprrprp     NaN   \n",
       "3  ¿Quiere saber cuándo una obra colombiana entra...     1.0   \n",
       "4  * Creacion facil de proyectos\\r\\n* Monitoreo d...     3.0   \n",
       "\n",
       "                     Fecha                                    URL Video  \\\n",
       "0   10/20/2017 12:00:00 AM                                          NaN   \n",
       "1   10/25/2017 12:00:00 AM                 https://youtu.be/IiKYmovnwCU   \n",
       "2   12/26/2017 12:00:00 AM                                          NaN   \n",
       "3  2017-03-06T00:00:00.000                                          NaN   \n",
       "4   08/20/2017 12:00:00 AM  https://www.youtube.com/watch?v=MHhahywWlzM   \n",
       "\n",
       "                                   URL Documentación  \n",
       "0                                                NaN  \n",
       "1  http://www.softwarepublicocolombia.gov.co/es/c...  \n",
       "2                                                NaN  \n",
       "3                                                NaN  \n",
       "4                              https://goo.gl/DCpTcM  "
      ]
     },
     "execution_count": 5,
     "metadata": {},
     "output_type": "execute_result"
    }
   ],
   "source": [
    "df.head()"
   ]
  },
  {
   "cell_type": "code",
   "execution_count": 10,
   "id": "instrumental-february",
   "metadata": {},
   "outputs": [
    {
     "name": "stdout",
     "output_type": "stream",
     "text": [
      "<class 'pandas.core.frame.DataFrame'>\n",
      "RangeIndex: 86 entries, 0 to 85\n",
      "Data columns (total 15 columns):\n",
      " #   Column               Non-Null Count  Dtype \n",
      "---  ------               --------------  ----- \n",
      " 0   Nombre del proyecto  86 non-null     object\n",
      " 1   Tipo de aplicación   86 non-null     object\n",
      " 2   Descripción          86 non-null     object\n",
      " 3   Categoría            79 non-null     object\n",
      " 4   Año del proyecto     86 non-null     int64 \n",
      " 5   Licencia             6 non-null      object\n",
      " 6   URL                  82 non-null     object\n",
      " 7   URL Código           80 non-null     object\n",
      " 8   Organización         85 non-null     object\n",
      " 9   E-mail de contacto   71 non-null     object\n",
      " 10  Características      79 non-null     object\n",
      " 11  Versión              82 non-null     object\n",
      " 12  Fecha                86 non-null     object\n",
      " 13  URL Video            20 non-null     object\n",
      " 14  URL Documentación    26 non-null     object\n",
      "dtypes: int64(1), object(14)\n",
      "memory usage: 10.2+ KB\n"
     ]
    }
   ],
   "source": [
    "df.info()"
   ]
  },
  {
   "cell_type": "code",
   "execution_count": 12,
   "id": "emerging-disposition",
   "metadata": {},
   "outputs": [
    {
     "data": {
      "text/html": [
       "<div>\n",
       "<style scoped>\n",
       "    .dataframe tbody tr th:only-of-type {\n",
       "        vertical-align: middle;\n",
       "    }\n",
       "\n",
       "    .dataframe tbody tr th {\n",
       "        vertical-align: top;\n",
       "    }\n",
       "\n",
       "    .dataframe thead th {\n",
       "        text-align: right;\n",
       "    }\n",
       "</style>\n",
       "<table border=\"1\" class=\"dataframe\">\n",
       "  <thead>\n",
       "    <tr style=\"text-align: right;\">\n",
       "      <th></th>\n",
       "      <th>Año del proyecto</th>\n",
       "    </tr>\n",
       "  </thead>\n",
       "  <tbody>\n",
       "    <tr>\n",
       "      <th>count</th>\n",
       "      <td>86.000000</td>\n",
       "    </tr>\n",
       "    <tr>\n",
       "      <th>mean</th>\n",
       "      <td>2015.220930</td>\n",
       "    </tr>\n",
       "    <tr>\n",
       "      <th>std</th>\n",
       "      <td>1.836885</td>\n",
       "    </tr>\n",
       "    <tr>\n",
       "      <th>min</th>\n",
       "      <td>2012.000000</td>\n",
       "    </tr>\n",
       "    <tr>\n",
       "      <th>25%</th>\n",
       "      <td>2014.000000</td>\n",
       "    </tr>\n",
       "    <tr>\n",
       "      <th>50%</th>\n",
       "      <td>2014.000000</td>\n",
       "    </tr>\n",
       "    <tr>\n",
       "      <th>75%</th>\n",
       "      <td>2017.000000</td>\n",
       "    </tr>\n",
       "    <tr>\n",
       "      <th>max</th>\n",
       "      <td>2019.000000</td>\n",
       "    </tr>\n",
       "  </tbody>\n",
       "</table>\n",
       "</div>"
      ],
      "text/plain": [
       "       Año del proyecto\n",
       "count         86.000000\n",
       "mean        2015.220930\n",
       "std            1.836885\n",
       "min         2012.000000\n",
       "25%         2014.000000\n",
       "50%         2014.000000\n",
       "75%         2017.000000\n",
       "max         2019.000000"
      ]
     },
     "execution_count": 12,
     "metadata": {},
     "output_type": "execute_result"
    }
   ],
   "source": [
    "df.describe()"
   ]
  },
  {
   "cell_type": "code",
   "execution_count": 26,
   "id": "harmful-coalition",
   "metadata": {},
   "outputs": [
    {
     "data": {
      "image/png": "[encoded data removed]",
      "text/plain": [
       "<Figure size 432x288 with 1 Axes>"
      ]
     },
     "metadata": {},
     "output_type": "display_data"
    }
   ],
   "source": [
    "sns.set_style(\"darkgrid\")\n",
    "df['Año del proyecto'].hist()\n",
    "plt.title(\"Proyectos de Codigo Abierto en Colombia\")\n",
    "plt.show()"
   ]
  },
  {
   "cell_type": "code",
   "execution_count": 14,
   "id": "precious-baltimore",
   "metadata": {},
   "outputs": [
    {
     "data": {
      "text/plain": [
       "array(['Software Público', 'Civic Software', 'Software Cívico'],\n",
       "      dtype=object)"
      ]
     },
     "execution_count": 14,
     "metadata": {},
     "output_type": "execute_result"
    }
   ],
   "source": [
    "df['Tipo de aplicación'].unique()"
   ]
  },
  {
   "cell_type": "code",
   "execution_count": 27,
   "id": "advanced-wound",
   "metadata": {},
   "outputs": [
    {
     "data": {
      "text/plain": [
       "<AxesSubplot:>"
      ]
     },
     "execution_count": 27,
     "metadata": {},
     "output_type": "execute_result"
    },
    {
     "data": {
      "image/png": "[encoded data removed]",
      "text/plain": [
       "<Figure size 432x288 with 1 Axes>"
      ]
     },
     "metadata": {},
     "output_type": "display_data"
    }
   ],
   "source": [
    "df['Tipo de aplicación'].hist()"
   ]
  }
 ],
 "metadata": {
  "kernelspec": {
   "display_name": "Python 3",
   "language": "python",
   "name": "python3"
  },
  "language_info": {
   "codemirror_mode": {
    "name": "ipython",
    "version": 3
   },
   "file_extension": ".py",
   "mimetype": "text/x-python",
   "name": "python",
   "nbconvert_exporter": "python",
   "pygments_lexer": "ipython3",
   "version": "3.8.5"
  }
 },
 "nbformat": 4,
 "nbformat_minor": 5
}
